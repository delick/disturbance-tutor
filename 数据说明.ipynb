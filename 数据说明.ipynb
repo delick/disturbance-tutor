{
 "cells": [
  {
   "cell_type": "markdown",
   "metadata": {},
   "source": [
    "# 文件结构\n",
    "\n",
    "\n",
    "- `Code` 代码\n",
    "    - `Disturbance` 扰动相关代码，具体介绍看 `mlx` 文件内部说明\n",
    "    - `Moran` 莫兰指数相关代码，具体介绍看 `mlx` 文件内部说明\n",
    "- `distMarker` 出现聚类的真假值 (0 - 无聚类， 1 - 有聚类)\n",
    "- `disStart` 扰动和恢复的时间节点，时间格式 `%Y%j`，时间格式的解读参考[**`strftime(format)`**](https://docs.python.org/2/library/datetime.html#strftime-and-strptime-behavior)\n",
    "    - `distStart` 扰动开始的时间点\n",
    "    - `distEnd` 扰动结束的时间点\n",
    "    - `HHStart` 高高聚类开始的时间点\n",
    "- `duration` 持续时间，天为单位\n",
    "    - `distDuration` 扰动持续时间\n",
    "    - `recDuration` 恢复持续时间\n",
    "- `params` 谐波模型的参数影像。\n",
    "1st, 2nd, 3rd, 4th 分别对应 $\\beta_0, \\beta_1, \\beta_2, \\beta_3$ 四个参数。（$\\text{NDVI}_\\text{fitted} = \\beta_0 + \\beta_1 t + \\beta_2 \\cdot \\cos\\left( \\frac{2 \\pi}{365} t \\right) + \\beta_3 \\cdot \\sin \\left( \\frac{2\\pi}{365} t \\right)$）其中 $t$ 为 $\\text{DOY}$。\n",
    "- `residual` 残差结果 $\\text{NDVI}_\\text{residual} = \\text{NDVI} - \\text{NDVI}_\\text{fitted}$\n",
    "- `result` STI 指数结果"
   ]
  },
  {
   "cell_type": "code",
   "execution_count": null,
   "metadata": {},
   "outputs": [],
   "source": []
  }
 ],
 "metadata": {
  "kernelspec": {
   "display_name": "Python 3",
   "language": "python",
   "name": "python3"
  },
  "language_info": {
   "codemirror_mode": {
    "name": "ipython",
    "version": 3
   },
   "file_extension": ".py",
   "mimetype": "text/x-python",
   "name": "python",
   "nbconvert_exporter": "python",
   "pygments_lexer": "ipython3",
   "version": "3.7.3"
  }
 },
 "nbformat": 4,
 "nbformat_minor": 2
}
